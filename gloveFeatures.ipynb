{
 "cells": [
  {
   "cell_type": "code",
   "execution_count": 1,
   "metadata": {
    "collapsed": true
   },
   "outputs": [],
   "source": [
    "import pandas as pd\n",
    "import numpy as np\n",
    "import spacy\n",
    "import csv\n",
    "import pickle\n",
    "import collections\n",
    "from tqdm import tqdm\n",
    "from math import log10\n",
    "from tqdm._tqdm_notebook import tqdm_notebook\n",
    "\n",
    "import textacy"
   ]
  },
  {
   "cell_type": "code",
   "execution_count": null,
   "metadata": {
    "collapsed": true
   },
   "outputs": [],
   "source": []
  },
  {
   "cell_type": "code",
   "execution_count": 3,
   "metadata": {},
   "outputs": [
    {
     "name": "stderr",
     "output_type": "stream",
     "text": [
      "404290it [00:56, 7094.60it/s]\n",
      "100%|██████████| 79296/79296 [00:00<00:00, 1150266.58it/s]\n",
      "404290it [00:54, 7447.32it/s]\n",
      "404290it [01:34, 4290.81it/s]\n"
     ]
    }
   ],
   "source": [
    "##GET TFIDF TO DICTIONARY\n",
    "df = pd.read_csv(\"/Users/boom/Desktop/NewTSP/Data/processedTrain.csv\")\n",
    "\n",
    "counter = collections.Counter()\n",
    "for index,doc in tqdm(df.iterrows()):\n",
    "    doc1  = str(doc[\"q1\"]).split(\" \")\n",
    "    doc2 = str(doc[\"q2\"]).split(\" \")\n",
    "    counter.update(doc1)\n",
    "    counter.update(doc2)\n",
    "    \n",
    "def term_frequency(sentence,counter):\n",
    "    tfCounter = collections.Counter()\n",
    "    out = []\n",
    "    sent = str(sentence).split(\" \")\n",
    "    tfCounter.update(sent)\n",
    "    for w in sent:\n",
    "        tf = (float(tfCounter.get(w))/float(counter.get(w)))\n",
    "        out.append((w,tf))\n",
    "    tfCounter.clear()\n",
    "    return out\n",
    "\n",
    "\n",
    "dic = {}\n",
    "for i in tqdm(counter):\n",
    "    dic[i] =0\n",
    "\n",
    "    \n",
    "for index,doc in tqdm(df.iterrows()):\n",
    "    doc1  = str(doc[\"q1\"]).split(\" \")\n",
    "    doc2 = str(doc[\"q2\"]).split(\" \")\n",
    "\n",
    "    for word in set(doc1):\n",
    "        dic[word]+=1\n",
    "        \n",
    "    for word in set(doc2):\n",
    "        dic[word]+=1\n",
    "    \n",
    "    \n",
    "totalDoc = len(df)*2\n",
    "\n",
    "\n",
    "logIDF = {}\n",
    "for w in dic:\n",
    "    logIDF[w] = log10(float(totalDoc)/dic[w])\n",
    "        \n",
    "        \n",
    "tfidf = set()\n",
    "\n",
    "for index,doc in tqdm(df.iterrows()):\n",
    "    doc1  = str(doc[\"q1\"]).split(\" \")\n",
    "    doc2 = str(doc[\"q2\"]).split(\" \")\n",
    "    \n",
    "    sent = []\n",
    "    for w in term_frequency(doc[\"q1\"],counter):\n",
    "        tf = (w[1])\n",
    "        idf = (logIDF[w[0]])\n",
    "        temp = (w[0],tf*idf)\n",
    "        tfidf.add(temp)\n",
    "\n",
    "    \n",
    "    for w in term_frequency(doc[\"q2\"],counter):\n",
    "        tf = (w[1])\n",
    "        idf = (logIDF[w[0]])\n",
    "        temp = (w[0],tf*idf)\n",
    "        tfidf.add(temp)\n",
    "\n",
    "        \n",
    "tfidf = dict(tfidf)\n",
    "    \n",
    "    \n"
   ]
  },
  {
   "cell_type": "code",
   "execution_count": 4,
   "metadata": {
    "collapsed": true
   },
   "outputs": [],
   "source": [
    "class Glove:\n",
    "    def __init__(self,modelPath,tk,tfidf = None):\n",
    "        self.model = model\n",
    "        self.tk = tk\n",
    "        self.tfidf = tfidf\n",
    "        self.progress = 0\n",
    "    def getVec(self,w):\n",
    "        return self.model.loc[w].as_matrix()\n",
    "    def getVectorSet(self,sent):\n",
    "        t = self.tk(sent )\n",
    "        vecSet = []\n",
    "        for word in t:\n",
    "            try:\n",
    "                vecTemp = self.getVec(word.text)\n",
    "                vecSet.append(vecTemp)\n",
    "            except:\n",
    "                pass\n",
    "\n",
    "        return vecSet\n",
    "    \n",
    "    def getAverageVector(self, sent):\n",
    "        vecSet = self.getVectorSet(sent)\n",
    "        if(len(vecSet)==0):\n",
    "            return np.zeros(300)\n",
    "        totalVec = np.zeros(len(vecSet[0]))\n",
    "        for vec in vecSet:\n",
    "            totalVec +=vec\n",
    "        return totalVec/len(vecSet)\n",
    "    \n",
    "    def getVectorSetWeighted(self,sent):\n",
    "        t = self.tk(sent)\n",
    "        vecSet = []\n",
    "        total = self.getTotalTFIDF(sent)\n",
    "        for word in t:\n",
    "            try:\n",
    "                vecTemp = self.getVec(word.text)\n",
    "                vecTemp = vecTemp * (tfidf[word.text]/total)\n",
    "                vecSet.append(vecTemp)\n",
    "            except:\n",
    "                pass\n",
    "        return vecSet\n",
    "    \n",
    "    def getTotalTFIDF(self,sent):\n",
    "        t = self.tk(sent)\n",
    "        totalTFIDF = 0\n",
    "        for word in t:\n",
    "            try:\n",
    "                totalTFIDF += tfidf[word.text]\n",
    "            except:\n",
    "                pass\n",
    "        return totalTFIDF\n",
    "    \n",
    "    \n",
    "    def getAverageTFIDF(self, sent):\n",
    "        vecSet = self.getVectorSetWeighted(sent)\n",
    "        if(len(vecSet)==0):\n",
    "            return np.zeros(300)\n",
    "        totalVec = np.zeros(len(vecSet[0]))\n",
    "        for vec in vecSet:\n",
    "            totalVec +=vec\n",
    "        return totalVec/len(vecSet)\n",
    "    \n",
    "    \n",
    "def CosineSimilarity(vec1,vec2):\n",
    "    try:\n",
    "        cosine_similarity = np.dot(vec1, vec2) / (np.linalg.norm(vec1) * np.linalg.norm(vec2))\n",
    "    except:\n",
    "        cosine_similarity=0\n",
    "        \n",
    "    return cosine_similarity"
   ]
  },
  {
   "cell_type": "code",
   "execution_count": 5,
   "metadata": {
    "collapsed": true
   },
   "outputs": [],
   "source": [
    "path = './Pretrained/glove.6B.300d.txt'\n",
    "model = pd.read_table(path, sep=\" \", index_col=0, header=None, quoting=csv.QUOTE_NONE)\n",
    "tk = spacy.load('en')\n"
   ]
  },
  {
   "cell_type": "code",
   "execution_count": 6,
   "metadata": {
    "collapsed": true
   },
   "outputs": [],
   "source": [
    "gloveModel = Glove(model,tk,tfidf)"
   ]
  },
  {
   "cell_type": "code",
   "execution_count": 7,
   "metadata": {
    "collapsed": true
   },
   "outputs": [],
   "source": [
    "train = pd.read_csv('./Data/simpleFeatures.csv')\n"
   ]
  },
  {
   "cell_type": "code",
   "execution_count": 20,
   "metadata": {
    "collapsed": true
   },
   "outputs": [],
   "source": [
    "avgVec1 = train.q1.apply(lambda x:gloveModel.getAverageVector(str(x)))"
   ]
  },
  {
   "cell_type": "code",
   "execution_count": 21,
   "metadata": {
    "collapsed": true
   },
   "outputs": [],
   "source": [
    "avgVec2 = train.q2.apply(lambda x:gloveModel.getAverageVector(str(x)))"
   ]
  },
  {
   "cell_type": "code",
   "execution_count": 22,
   "metadata": {
    "collapsed": true
   },
   "outputs": [],
   "source": [
    "\n",
    "avgVec = pd.concat([avgVec1,avgVec2],axis=1)\n"
   ]
  },
  {
   "cell_type": "code",
   "execution_count": 24,
   "metadata": {},
   "outputs": [
    {
     "name": "stderr",
     "output_type": "stream",
     "text": [
      "/Users/boom/anaconda/envs/py36/lib/python3.6/site-packages/ipykernel_launcher.py:66: RuntimeWarning: invalid value encountered in double_scalars\n"
     ]
    }
   ],
   "source": [
    "avgWeighted = avgVec.apply(lambda x:CosineSimilarity(x['q1'],x['q2']),axis=1)"
   ]
  },
  {
   "cell_type": "code",
   "execution_count": null,
   "metadata": {
    "collapsed": true
   },
   "outputs": [],
   "source": [
    "df['gloveAvgVector'] = avgWeighted"
   ]
  },
  {
   "cell_type": "code",
   "execution_count": 16,
   "metadata": {
    "collapsed": true
   },
   "outputs": [],
   "source": [
    "avgTFIDF1 = df.q1.apply(lambda x:gloveModel.getAverageTFIDF(str(x)))"
   ]
  },
  {
   "cell_type": "code",
   "execution_count": 31,
   "metadata": {
    "collapsed": true
   },
   "outputs": [],
   "source": [
    "avgTFIDF2 = df.q2.apply(lambda x:gloveModel.getAverageTFIDF(str(x)))"
   ]
  },
  {
   "cell_type": "code",
   "execution_count": 32,
   "metadata": {
    "collapsed": true
   },
   "outputs": [],
   "source": [
    "avgTFIDF = pd.concat([avgTFIDF1,avgTFIDF2],axis=1)"
   ]
  },
  {
   "cell_type": "code",
   "execution_count": 38,
   "metadata": {},
   "outputs": [
    {
     "name": "stderr",
     "output_type": "stream",
     "text": [
      "/Users/boom/anaconda/envs/py36/lib/python3.6/site-packages/ipykernel_launcher.py:66: RuntimeWarning: invalid value encountered in double_scalars\n"
     ]
    }
   ],
   "source": [
    "tfidfCosine = df.apply(lambda x:CosineSimilarity(x['q1'],x['q2']),axis=1)"
   ]
  },
  {
   "cell_type": "code",
   "execution_count": 42,
   "metadata": {
    "collapsed": true
   },
   "outputs": [],
   "source": [
    "df['avgTFIDFCosineW1'] = tfidfCosine"
   ]
  },
  {
   "cell_type": "code",
   "execution_count": 44,
   "metadata": {
    "collapsed": true
   },
   "outputs": [],
   "source": [
    "glove.to_csv('./Data/gloveCosine.csv')"
   ]
  },
  {
   "cell_type": "code",
   "execution_count": null,
   "metadata": {
    "collapsed": true
   },
   "outputs": [],
   "source": []
  }
 ],
 "metadata": {
  "kernelspec": {
   "display_name": "Python 3",
   "language": "python",
   "name": "python3"
  },
  "language_info": {
   "codemirror_mode": {
    "name": "ipython",
    "version": 3
   },
   "file_extension": ".py",
   "mimetype": "text/x-python",
   "name": "python",
   "nbconvert_exporter": "python",
   "pygments_lexer": "ipython3",
   "version": "3.6.3"
  }
 },
 "nbformat": 4,
 "nbformat_minor": 2
}
