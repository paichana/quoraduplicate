{
 "cells": [
  {
   "cell_type": "code",
   "execution_count": 1,
   "metadata": {
    "collapsed": true
   },
   "outputs": [],
   "source": [
    "import pandas as pd\n",
    "import re\n",
    "import numpy as np\n",
    "from fuzzywuzzy import fuzz\n",
    "import textacy"
   ]
  },
  {
   "cell_type": "code",
   "execution_count": 2,
   "metadata": {
    "collapsed": true
   },
   "outputs": [],
   "source": [
    "df = pd.read_csv('./Data/processedTrain.csv')\n",
    "default =pd.read_csv('./Data/train.csv') "
   ]
  },
  {
   "cell_type": "code",
   "execution_count": 3,
   "metadata": {},
   "outputs": [
    {
     "data": {
      "text/html": [
       "<div>\n",
       "<style>\n",
       "    .dataframe thead tr:only-child th {\n",
       "        text-align: right;\n",
       "    }\n",
       "\n",
       "    .dataframe thead th {\n",
       "        text-align: left;\n",
       "    }\n",
       "\n",
       "    .dataframe tbody tr th {\n",
       "        vertical-align: top;\n",
       "    }\n",
       "</style>\n",
       "<table border=\"1\" class=\"dataframe\">\n",
       "  <thead>\n",
       "    <tr style=\"text-align: right;\">\n",
       "      <th></th>\n",
       "      <th>id</th>\n",
       "      <th>qid1</th>\n",
       "      <th>qid2</th>\n",
       "      <th>question1</th>\n",
       "      <th>question2</th>\n",
       "      <th>is_duplicate</th>\n",
       "      <th>q1</th>\n",
       "      <th>q2</th>\n",
       "    </tr>\n",
       "  </thead>\n",
       "  <tbody>\n",
       "    <tr>\n",
       "      <th>0</th>\n",
       "      <td>0</td>\n",
       "      <td>1</td>\n",
       "      <td>2</td>\n",
       "      <td>what is the step by step guide to invest in sh...</td>\n",
       "      <td>what is the step by step guide to invest in sh...</td>\n",
       "      <td>0</td>\n",
       "      <td>step step guide invest share market india</td>\n",
       "      <td>step step guide invest share market</td>\n",
       "    </tr>\n",
       "    <tr>\n",
       "      <th>1</th>\n",
       "      <td>1</td>\n",
       "      <td>3</td>\n",
       "      <td>4</td>\n",
       "      <td>what is the story of kohinoor koh i noor diamond</td>\n",
       "      <td>what would happen if the indian government sto...</td>\n",
       "      <td>0</td>\n",
       "      <td>story kohinoor koh noor diamond</td>\n",
       "      <td>would happen indian government steal kohinoor ...</td>\n",
       "    </tr>\n",
       "    <tr>\n",
       "      <th>2</th>\n",
       "      <td>2</td>\n",
       "      <td>5</td>\n",
       "      <td>6</td>\n",
       "      <td>how can i increase the speed of my internet co...</td>\n",
       "      <td>how can internet speed be increased by hacking...</td>\n",
       "      <td>0</td>\n",
       "      <td>increase speed -PRON- internet connection use vpn</td>\n",
       "      <td>internet speed increase hack dns</td>\n",
       "    </tr>\n",
       "    <tr>\n",
       "      <th>3</th>\n",
       "      <td>3</td>\n",
       "      <td>7</td>\n",
       "      <td>8</td>\n",
       "      <td>why am i mentally very lonely how can i solve it</td>\n",
       "      <td>find the remainder when math 23 24 math is div...</td>\n",
       "      <td>0</td>\n",
       "      <td>mentally lonely solve -PRON-</td>\n",
       "      <td>find remainder math 23 24 math divide 24 23</td>\n",
       "    </tr>\n",
       "    <tr>\n",
       "      <th>4</th>\n",
       "      <td>4</td>\n",
       "      <td>9</td>\n",
       "      <td>10</td>\n",
       "      <td>which one dissolve in water quikly sugar salt ...</td>\n",
       "      <td>which fish would survive in salt water</td>\n",
       "      <td>0</td>\n",
       "      <td>one dissolve water quikly sugar salt methane c...</td>\n",
       "      <td>fish would survive salt water</td>\n",
       "    </tr>\n",
       "  </tbody>\n",
       "</table>\n",
       "</div>"
      ],
      "text/plain": [
       "   id  qid1  qid2                                          question1  \\\n",
       "0   0     1     2  what is the step by step guide to invest in sh...   \n",
       "1   1     3     4   what is the story of kohinoor koh i noor diamond   \n",
       "2   2     5     6  how can i increase the speed of my internet co...   \n",
       "3   3     7     8   why am i mentally very lonely how can i solve it   \n",
       "4   4     9    10  which one dissolve in water quikly sugar salt ...   \n",
       "\n",
       "                                           question2  is_duplicate  \\\n",
       "0  what is the step by step guide to invest in sh...             0   \n",
       "1  what would happen if the indian government sto...             0   \n",
       "2  how can internet speed be increased by hacking...             0   \n",
       "3  find the remainder when math 23 24 math is div...             0   \n",
       "4             which fish would survive in salt water             0   \n",
       "\n",
       "                                                  q1  \\\n",
       "0          step step guide invest share market india   \n",
       "1                    story kohinoor koh noor diamond   \n",
       "2  increase speed -PRON- internet connection use vpn   \n",
       "3                       mentally lonely solve -PRON-   \n",
       "4  one dissolve water quikly sugar salt methane c...   \n",
       "\n",
       "                                                  q2  \n",
       "0                step step guide invest share market  \n",
       "1  would happen indian government steal kohinoor ...  \n",
       "2                   internet speed increase hack dns  \n",
       "3        find remainder math 23 24 math divide 24 23  \n",
       "4                      fish would survive salt water  "
      ]
     },
     "execution_count": 3,
     "metadata": {},
     "output_type": "execute_result"
    }
   ],
   "source": [
    "df.head(5)"
   ]
  },
  {
   "cell_type": "code",
   "execution_count": 4,
   "metadata": {
    "collapsed": true
   },
   "outputs": [],
   "source": [
    "## return average and amount of numbers\n",
    "def getAvgNumber(x):\n",
    "    x = str(x)\n",
    "    nums =  re.findall('\\d+', x)\n",
    "    nums = np.array(nums)\n",
    "    nums = nums.astype(np.float)\n",
    "    if(len(nums)==0):\n",
    "        return 0\n",
    "    \n",
    "    return sum(nums)/len(nums)\n",
    "\n",
    "def getCountNumber(x):\n",
    "    x = str(x)\n",
    "    nums =  re.findall('\\d+', x)\n",
    "    nums = np.array(nums)\n",
    "    nums = nums.astype(np.float)\n",
    "    if(len(nums)==0):\n",
    "        return 0\n",
    "    return len(nums)\n",
    "    \n",
    "def getCharCount(x):\n",
    "    x = str(x)\n",
    "    return len(x)\n",
    "def getSentCount(x):\n",
    "    x = str(x)\n",
    "    return x.count('.') + x.count('!') + x.count('?')\n",
    "\n",
    "def getWordCount(x):\n",
    "    x = str(x)\n",
    "    return x.count(\" \") + 1\n",
    "\n"
   ]
  },
  {
   "cell_type": "code",
   "execution_count": 5,
   "metadata": {
    "collapsed": true
   },
   "outputs": [],
   "source": [
    "avgNum1= df.q1.apply(lambda x:getAvgNumber(x))\n",
    "avgNum2= df.q2.apply(lambda x:getAvgNumber(x))\n",
    "df['avgNumDiff'] = abs(avgNum1-avgNum2)"
   ]
  },
  {
   "cell_type": "code",
   "execution_count": 6,
   "metadata": {
    "collapsed": true
   },
   "outputs": [],
   "source": [
    "countNum1= df.q1.apply(lambda x:getCountNumber(x))\n",
    "countNum2 = df.q2.apply(lambda x:getCountNumber(x))\n",
    "df['countNumDiff'] = abs(countNum1-countNum2)"
   ]
  },
  {
   "cell_type": "code",
   "execution_count": 7,
   "metadata": {
    "collapsed": true
   },
   "outputs": [],
   "source": [
    "charCount1= df.q1.apply(lambda x:getCharCount(x))\n",
    "charCount2= df.q2.apply(lambda x:getCharCount(x))\n",
    "df['charCountDiff'] = abs(charCount1-charCount2)"
   ]
  },
  {
   "cell_type": "code",
   "execution_count": 8,
   "metadata": {
    "collapsed": true
   },
   "outputs": [],
   "source": [
    "wordCount1 = df.q1.apply(lambda x:getWordCount(x))\n",
    "wordCount2 = df.q2.apply(lambda x:getWordCount(x))\n",
    "df['wordCountDiff'] = abs(wordCount1-wordCount2)"
   ]
  },
  {
   "cell_type": "code",
   "execution_count": 9,
   "metadata": {
    "collapsed": true
   },
   "outputs": [],
   "source": [
    "sentCount1= default.question1.apply(lambda x:getSentCount(x))\n",
    "sentCount2= default.question2.apply(lambda x:getSentCount(x))\n",
    "df['sentCountDiff'] = abs(sentCount1-sentCount2)"
   ]
  },
  {
   "cell_type": "code",
   "execution_count": 10,
   "metadata": {
    "collapsed": true
   },
   "outputs": [],
   "source": [
    "#https://pypi.python.org/pypi/fuzzywuzzy\n",
    "\n",
    "df['simpleRatio'] = df.apply(lambda x: fuzz.ratio(str(x['q1']),str(x['q2'])),axis=1)\n",
    "df['tokenSetRatio'] = df.apply(lambda x: fuzz.token_sort_ratio(str(x['q1']),str(x['q2'])),axis=1)\n",
    "df['tokenSortRatio'] = df.apply(lambda x: fuzz.token_sort_ratio(str(x['q1']),str(x['q2'])),axis=1)\n",
    "df['partialRatio'] = df.apply(lambda x: fuzz.partial_ratio(str(x['q1']),str(x['q2'])),axis=1)\n"
   ]
  },
  {
   "cell_type": "code",
   "execution_count": 11,
   "metadata": {
    "collapsed": true
   },
   "outputs": [],
   "source": [
    "#Textacy features\n",
    "df['jaro_winkler'] = df.apply(lambda x: textacy.similarity.jaro_winkler(str(x['q1']),str(x['q2'])),axis=1)\n",
    "df['levenshtein']  = df.apply(lambda x: textacy.similarity.levenshtein(str(x['q1']),str(x['q2'])),axis=1)\n",
    "df['hamming']  = df.apply(lambda x: textacy.similarity.hamming(str(x['q1']),str(x['q2'])),axis=1)\n",
    "df['jaccard']  = df.apply(lambda x: textacy.similarity.jaccard(str(x['q1']),str(x['q2'])),axis=1)"
   ]
  },
  {
   "cell_type": "code",
   "execution_count": 12,
   "metadata": {
    "collapsed": true
   },
   "outputs": [],
   "source": [
    "df.to_csv('./Data/simpleFeatures.csv', index = False)"
   ]
  }
 ],
 "metadata": {
  "kernelspec": {
   "display_name": "Python 3",
   "language": "python",
   "name": "python3"
  },
  "language_info": {
   "codemirror_mode": {
    "name": "ipython",
    "version": 3
   },
   "file_extension": ".py",
   "mimetype": "text/x-python",
   "name": "python",
   "nbconvert_exporter": "python",
   "pygments_lexer": "ipython3",
   "version": "3.6.3"
  }
 },
 "nbformat": 4,
 "nbformat_minor": 2
}
